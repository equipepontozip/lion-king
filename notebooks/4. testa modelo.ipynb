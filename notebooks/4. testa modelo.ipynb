{
 "cells": [
  {
   "cell_type": "code",
   "execution_count": 1,
   "metadata": {},
   "outputs": [],
   "source": [
    "import pandas as pd\n",
    "#from sklearn.neighbors import LocalOutlierFactor \n",
    "import pickle\n",
    "from sklearn.feature_extraction import FeatureHasher\n",
    "import numpy as np"
   ]
  },
  {
   "cell_type": "code",
   "execution_count": 2,
   "metadata": {},
   "outputs": [],
   "source": [
    "def transform_data(ip,cpf,qtd_access_ip_last_days,qtd_access_cpf_last_days):\n",
    "    groups = ip.split( \".\" )\n",
    "    equalize_group_length = \"\".join( map( lambda group: group.zfill(3), groups ))\n",
    "    h = FeatureHasher(n_features=10, input_type='string')\n",
    "    \n",
    "    ip = h.transform([equalize_group_length]).toarray()[0]\n",
    "    cpf = h.transform([cpf]).toarray()[0]\n",
    "    \n",
    "    data = np.concatenate((ip, cpf))\n",
    "    data = list(data)\n",
    "    \n",
    "    data.append(qtd_access_ip_last_days)\n",
    "    data.append(qtd_access_cpf_last_days)\n",
    "    \n",
    "    return data"
   ]
  },
  {
   "cell_type": "code",
   "execution_count": 3,
   "metadata": {},
   "outputs": [],
   "source": [
    "ip = '192.31.221.248'\n",
    "cpf = '34894024407'\n",
    "qtd_access_ip_last_days=8\n",
    "qtd_access_cpf_last_days=10"
   ]
  },
  {
   "cell_type": "code",
   "execution_count": 4,
   "metadata": {},
   "outputs": [],
   "source": [
    "data = transform_data(ip,cpf,qtd_access_ip_last_days,qtd_access_cpf_last_days)"
   ]
  },
  {
   "cell_type": "code",
   "execution_count": 5,
   "metadata": {},
   "outputs": [
    {
     "data": {
      "text/plain": [
       "LocalOutlierFactor(algorithm='auto', contamination=0.07, leaf_size=30,\n",
       "                   metric='minkowski', metric_params=None, n_jobs=None,\n",
       "                   n_neighbors=20, novelty=True, p=2)"
      ]
     },
     "execution_count": 5,
     "metadata": {},
     "output_type": "execute_result"
    }
   ],
   "source": [
    "loaded_model = pickle.load(open('login-LocalOutlierFactor.pickle', 'rb'))\n",
    "loaded_model"
   ]
  },
  {
   "cell_type": "code",
   "execution_count": 6,
   "metadata": {},
   "outputs": [
    {
     "data": {
      "text/plain": [
       "array([-1])"
      ]
     },
     "execution_count": 6,
     "metadata": {},
     "output_type": "execute_result"
    }
   ],
   "source": [
    "loaded_model.predict([data])"
   ]
  },
  {
   "cell_type": "code",
   "execution_count": null,
   "metadata": {},
   "outputs": [],
   "source": []
  }
 ],
 "metadata": {
  "kernelspec": {
   "display_name": "Python 3",
   "language": "python",
   "name": "python3"
  },
  "language_info": {
   "codemirror_mode": {
    "name": "ipython",
    "version": 3
   },
   "file_extension": ".py",
   "mimetype": "text/x-python",
   "name": "python",
   "nbconvert_exporter": "python",
   "pygments_lexer": "ipython3",
   "version": "3.6.8"
  }
 },
 "nbformat": 4,
 "nbformat_minor": 2
}
