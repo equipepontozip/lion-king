{
 "cells": [
  {
   "cell_type": "code",
   "execution_count": 1,
   "metadata": {},
   "outputs": [],
   "source": [
    "import pandas as pd\n",
    "\n",
    "import matplotlib.pyplot as plt"
   ]
  },
  {
   "cell_type": "code",
   "execution_count": 2,
   "metadata": {},
   "outputs": [
    {
     "name": "stdout",
     "output_type": "stream",
     "text": [
      "(1000000, 13)\n"
     ]
    },
    {
     "data": {
      "text/html": [
       "<div>\n",
       "<style scoped>\n",
       "    .dataframe tbody tr th:only-of-type {\n",
       "        vertical-align: middle;\n",
       "    }\n",
       "\n",
       "    .dataframe tbody tr th {\n",
       "        vertical-align: top;\n",
       "    }\n",
       "\n",
       "    .dataframe thead th {\n",
       "        text-align: right;\n",
       "    }\n",
       "</style>\n",
       "<table border=\"1\" class=\"dataframe\">\n",
       "  <thead>\n",
       "    <tr style=\"text-align: right;\">\n",
       "      <th></th>\n",
       "      <th>DATA PROCESSAMENTO</th>\n",
       "      <th>DATA EVENTO</th>\n",
       "      <th>MODULO</th>\n",
       "      <th>CPF</th>\n",
       "      <th>ACAO</th>\n",
       "      <th>NOME</th>\n",
       "      <th>E-MAIL</th>\n",
       "      <th>TIPO</th>\n",
       "      <th>ESTADO</th>\n",
       "      <th>STATUS</th>\n",
       "      <th>RESOURCE</th>\n",
       "      <th>CLIENT_ID</th>\n",
       "      <th>AUDITORIA APLICACAO</th>\n",
       "    </tr>\n",
       "  </thead>\n",
       "  <tbody>\n",
       "    <tr>\n",
       "      <th>0</th>\n",
       "      <td>2019-07-10 16:06:45.67</td>\n",
       "      <td>2019-07-10 16:06:45</td>\n",
       "      <td>API_PORTAL</td>\n",
       "      <td>34894024407</td>\n",
       "      <td>NaN</td>\n",
       "      <td>NOME 34894024407</td>\n",
       "      <td>NOME34894024407@email.com</td>\n",
       "      <td>NaN</td>\n",
       "      <td>NaN</td>\n",
       "      <td>SUCCESS</td>\n",
       "      <td>NOTIFICACOES</td>\n",
       "      <td>acesso.gov.br</td>\n",
       "      <td>True</td>\n",
       "    </tr>\n",
       "    <tr>\n",
       "      <th>1</th>\n",
       "      <td>2019-07-10 16:06:49.861</td>\n",
       "      <td>2019-07-10 16:06:49</td>\n",
       "      <td>API_PORTAL</td>\n",
       "      <td>34402518252</td>\n",
       "      <td>Cadastro</td>\n",
       "      <td>NOME 34402518252</td>\n",
       "      <td>NOME34402518252@email.com</td>\n",
       "      <td>SMS</td>\n",
       "      <td>PA_EP</td>\n",
       "      <td>SUCCESS</td>\n",
       "      <td>EMAIL_SMS</td>\n",
       "      <td>acesso.gov.br</td>\n",
       "      <td>True</td>\n",
       "    </tr>\n",
       "    <tr>\n",
       "      <th>2</th>\n",
       "      <td>2019-07-10 16:06:51.993</td>\n",
       "      <td>2019-07-10 16:06:51</td>\n",
       "      <td>API_PORTAL</td>\n",
       "      <td>34641345139</td>\n",
       "      <td>NaN</td>\n",
       "      <td>NOME 34641345139</td>\n",
       "      <td>NOME34641345139@email.com</td>\n",
       "      <td>NaN</td>\n",
       "      <td>NaN</td>\n",
       "      <td>SUCCESS</td>\n",
       "      <td>NOTIFICACOES</td>\n",
       "      <td>acesso.gov.br</td>\n",
       "      <td>True</td>\n",
       "    </tr>\n",
       "    <tr>\n",
       "      <th>3</th>\n",
       "      <td>2019-07-10 16:06:47.075</td>\n",
       "      <td>2019-07-10 16:06:46</td>\n",
       "      <td>API_PORTAL</td>\n",
       "      <td>34578456840</td>\n",
       "      <td>NaN</td>\n",
       "      <td>NOME 34578456840</td>\n",
       "      <td>NOME34578456840@email.com</td>\n",
       "      <td>NaN</td>\n",
       "      <td>NaN</td>\n",
       "      <td>SUCCESS</td>\n",
       "      <td>NOTIFICACOES</td>\n",
       "      <td>acesso.gov.br</td>\n",
       "      <td>True</td>\n",
       "    </tr>\n",
       "    <tr>\n",
       "      <th>4</th>\n",
       "      <td>2019-07-10 16:06:46.787</td>\n",
       "      <td>2019-07-10 16:06:46</td>\n",
       "      <td>API_PORTAL</td>\n",
       "      <td>34808234821</td>\n",
       "      <td>Cadastro</td>\n",
       "      <td>NOME 34808234821</td>\n",
       "      <td>NOME34808234821@email.com</td>\n",
       "      <td>SMS</td>\n",
       "      <td>PA_CF</td>\n",
       "      <td>SUCCESS</td>\n",
       "      <td>EMAIL_SMS</td>\n",
       "      <td>acesso.gov.br</td>\n",
       "      <td>True</td>\n",
       "    </tr>\n",
       "  </tbody>\n",
       "</table>\n",
       "</div>"
      ],
      "text/plain": [
       "        DATA PROCESSAMENTO          DATA EVENTO      MODULO          CPF  \\\n",
       "0   2019-07-10 16:06:45.67  2019-07-10 16:06:45  API_PORTAL  34894024407   \n",
       "1  2019-07-10 16:06:49.861  2019-07-10 16:06:49  API_PORTAL  34402518252   \n",
       "2  2019-07-10 16:06:51.993  2019-07-10 16:06:51  API_PORTAL  34641345139   \n",
       "3  2019-07-10 16:06:47.075  2019-07-10 16:06:46  API_PORTAL  34578456840   \n",
       "4  2019-07-10 16:06:46.787  2019-07-10 16:06:46  API_PORTAL  34808234821   \n",
       "\n",
       "       ACAO              NOME                     E-MAIL TIPO ESTADO   STATUS  \\\n",
       "0       NaN  NOME 34894024407  NOME34894024407@email.com  NaN    NaN  SUCCESS   \n",
       "1  Cadastro  NOME 34402518252  NOME34402518252@email.com  SMS  PA_EP  SUCCESS   \n",
       "2       NaN  NOME 34641345139  NOME34641345139@email.com  NaN    NaN  SUCCESS   \n",
       "3       NaN  NOME 34578456840  NOME34578456840@email.com  NaN    NaN  SUCCESS   \n",
       "4  Cadastro  NOME 34808234821  NOME34808234821@email.com  SMS  PA_CF  SUCCESS   \n",
       "\n",
       "       RESOURCE      CLIENT_ID  AUDITORIA APLICACAO  \n",
       "0  NOTIFICACOES  acesso.gov.br                 True  \n",
       "1     EMAIL_SMS  acesso.gov.br                 True  \n",
       "2  NOTIFICACOES  acesso.gov.br                 True  \n",
       "3  NOTIFICACOES  acesso.gov.br                 True  \n",
       "4     EMAIL_SMS  acesso.gov.br                 True  "
      ]
     },
     "execution_count": 2,
     "metadata": {},
     "output_type": "execute_result"
    }
   ],
   "source": [
    "df_auditoria_aplicacao = pd.read_csv('../data/raw/Auditoria_Aplicacao_Data_1.csv',sep=';')\n",
    "print(df_auditoria_aplicacao.shape)\n",
    "df_auditoria_aplicacao.head()"
   ]
  },
  {
   "cell_type": "code",
   "execution_count": 3,
   "metadata": {},
   "outputs": [
    {
     "data": {
      "text/plain": [
       "<matplotlib.axes._subplots.AxesSubplot at 0x7f53e37ca630>"
      ]
     },
     "execution_count": 3,
     "metadata": {},
     "output_type": "execute_result"
    },
    {
     "data": {
      "image/png": "[encoded data removed]",
      "text/plain": [
       "<Figure size 432x288 with 1 Axes>"
      ]
     },
     "metadata": {
      "needs_background": "light"
     },
     "output_type": "display_data"
    }
   ],
   "source": [
    "df_auditoria_aplicacao.CPF.value_counts()[:15].plot.bar()"
   ]
  },
  {
   "cell_type": "code",
   "execution_count": 4,
   "metadata": {},
   "outputs": [],
   "source": [
    "df_auditoria_aplicacao = df_auditoria_aplicacao[['DATA EVENTO','CPF','STATUS']]"
   ]
  },
  {
   "cell_type": "code",
   "execution_count": 5,
   "metadata": {},
   "outputs": [
    {
     "data": {
      "text/html": [
       "<div>\n",
       "<style scoped>\n",
       "    .dataframe tbody tr th:only-of-type {\n",
       "        vertical-align: middle;\n",
       "    }\n",
       "\n",
       "    .dataframe tbody tr th {\n",
       "        vertical-align: top;\n",
       "    }\n",
       "\n",
       "    .dataframe thead th {\n",
       "        text-align: right;\n",
       "    }\n",
       "</style>\n",
       "<table border=\"1\" class=\"dataframe\">\n",
       "  <thead>\n",
       "    <tr style=\"text-align: right;\">\n",
       "      <th></th>\n",
       "      <th>DATA EVENTO</th>\n",
       "      <th>CPF</th>\n",
       "      <th>STATUS</th>\n",
       "    </tr>\n",
       "  </thead>\n",
       "  <tbody>\n",
       "    <tr>\n",
       "      <th>0</th>\n",
       "      <td>2019-07-10 16:06:45</td>\n",
       "      <td>34894024407</td>\n",
       "      <td>SUCCESS</td>\n",
       "    </tr>\n",
       "    <tr>\n",
       "      <th>1</th>\n",
       "      <td>2019-07-10 16:06:49</td>\n",
       "      <td>34402518252</td>\n",
       "      <td>SUCCESS</td>\n",
       "    </tr>\n",
       "    <tr>\n",
       "      <th>2</th>\n",
       "      <td>2019-07-10 16:06:51</td>\n",
       "      <td>34641345139</td>\n",
       "      <td>SUCCESS</td>\n",
       "    </tr>\n",
       "    <tr>\n",
       "      <th>3</th>\n",
       "      <td>2019-07-10 16:06:46</td>\n",
       "      <td>34578456840</td>\n",
       "      <td>SUCCESS</td>\n",
       "    </tr>\n",
       "    <tr>\n",
       "      <th>4</th>\n",
       "      <td>2019-07-10 16:06:46</td>\n",
       "      <td>34808234821</td>\n",
       "      <td>SUCCESS</td>\n",
       "    </tr>\n",
       "  </tbody>\n",
       "</table>\n",
       "</div>"
      ],
      "text/plain": [
       "           DATA EVENTO          CPF   STATUS\n",
       "0  2019-07-10 16:06:45  34894024407  SUCCESS\n",
       "1  2019-07-10 16:06:49  34402518252  SUCCESS\n",
       "2  2019-07-10 16:06:51  34641345139  SUCCESS\n",
       "3  2019-07-10 16:06:46  34578456840  SUCCESS\n",
       "4  2019-07-10 16:06:46  34808234821  SUCCESS"
      ]
     },
     "execution_count": 5,
     "metadata": {},
     "output_type": "execute_result"
    }
   ],
   "source": [
    "df_auditoria_aplicacao.head()"
   ]
  },
  {
   "cell_type": "code",
   "execution_count": 6,
   "metadata": {},
   "outputs": [
    {
     "data": {
      "application/vnd.jupyter.widget-view+json": {
       "model_id": "0aba7557cc0f4088b9aeb4b39e1ed1a6",
       "version_major": 2,
       "version_minor": 0
      },
      "text/plain": [
       "HBox(children=(IntProgress(value=0, max=1000000), HTML(value='')))"
      ]
     },
     "metadata": {},
     "output_type": "display_data"
    },
    {
     "name": "stdout",
     "output_type": "stream",
     "text": [
      "\n"
     ]
    }
   ],
   "source": [
    "import tqdm\n",
    "from faker import Faker\n",
    "from faker.providers import internet\n",
    "\n",
    "fake = Faker()\n",
    "fake.add_provider(internet)\n",
    "\n",
    "random_ips = pd.Series()\n",
    "for ix in tqdm.tqdm_notebook(range(0,df_auditoria_a\n",
    "                                   plicacao.shape[0])):\n",
    "    random_ips = random_ips.append(pd.Series(fake.ipv4_public(address_class='c')))"
   ]
  },
  {
   "cell_type": "code",
   "execution_count": 15,
   "metadata": {},
   "outputs": [],
   "source": [
    "df_auditoria_aplicacao.reset_index(drop=True,inplace=True)\n",
    "random_ips.reset_index(drop=True,inplace=True)\n",
    "df_auditoria_aplicacao['REMOTE ADDRESS'] = random_ips"
   ]
  },
  {
   "cell_type": "code",
   "execution_count": 14,
   "metadata": {},
   "outputs": [],
   "source": [
    "#df_auditoria_aplicacao.insert(2,'REMOTE ADDRESS',random_ips)"
   ]
  },
  {
   "cell_type": "code",
   "execution_count": 16,
   "metadata": {},
   "outputs": [],
   "source": [
    "\n",
    "df_auditoria_aplicacao.to_csv(\"ips-processed.csv\")"
   ]
  },
  {
   "cell_type": "code",
   "execution_count": 18,
   "metadata": {},
   "outputs": [
    {
     "data": {
      "text/html": [
       "<div>\n",
       "<style scoped>\n",
       "    .dataframe tbody tr th:only-of-type {\n",
       "        vertical-align: middle;\n",
       "    }\n",
       "\n",
       "    .dataframe tbody tr th {\n",
       "        vertical-align: top;\n",
       "    }\n",
       "\n",
       "    .dataframe thead th {\n",
       "        text-align: right;\n",
       "    }\n",
       "</style>\n",
       "<table border=\"1\" class=\"dataframe\">\n",
       "  <thead>\n",
       "    <tr style=\"text-align: right;\">\n",
       "      <th></th>\n",
       "      <th>DATA EVENTO</th>\n",
       "      <th>CPF</th>\n",
       "      <th>STATUS</th>\n",
       "      <th>REMOTE ADDRESS</th>\n",
       "    </tr>\n",
       "  </thead>\n",
       "  <tbody>\n",
       "    <tr>\n",
       "      <th>0</th>\n",
       "      <td>2019-07-10 16:06:45</td>\n",
       "      <td>34894024407</td>\n",
       "      <td>SUCCESS</td>\n",
       "      <td>192.31.221.248</td>\n",
       "    </tr>\n",
       "    <tr>\n",
       "      <th>1</th>\n",
       "      <td>2019-07-10 16:06:49</td>\n",
       "      <td>34402518252</td>\n",
       "      <td>SUCCESS</td>\n",
       "      <td>192.56.54.69</td>\n",
       "    </tr>\n",
       "    <tr>\n",
       "      <th>2</th>\n",
       "      <td>2019-07-10 16:06:51</td>\n",
       "      <td>34641345139</td>\n",
       "      <td>SUCCESS</td>\n",
       "      <td>192.30.180.55</td>\n",
       "    </tr>\n",
       "    <tr>\n",
       "      <th>3</th>\n",
       "      <td>2019-07-10 16:06:46</td>\n",
       "      <td>34578456840</td>\n",
       "      <td>SUCCESS</td>\n",
       "      <td>192.49.255.9</td>\n",
       "    </tr>\n",
       "    <tr>\n",
       "      <th>4</th>\n",
       "      <td>2019-07-10 16:06:46</td>\n",
       "      <td>34808234821</td>\n",
       "      <td>SUCCESS</td>\n",
       "      <td>192.67.0.200</td>\n",
       "    </tr>\n",
       "  </tbody>\n",
       "</table>\n",
       "</div>"
      ],
      "text/plain": [
       "           DATA EVENTO          CPF   STATUS  REMOTE ADDRESS\n",
       "0  2019-07-10 16:06:45  34894024407  SUCCESS  192.31.221.248\n",
       "1  2019-07-10 16:06:49  34402518252  SUCCESS    192.56.54.69\n",
       "2  2019-07-10 16:06:51  34641345139  SUCCESS   192.30.180.55\n",
       "3  2019-07-10 16:06:46  34578456840  SUCCESS    192.49.255.9\n",
       "4  2019-07-10 16:06:46  34808234821  SUCCESS    192.67.0.200"
      ]
     },
     "execution_count": 18,
     "metadata": {},
     "output_type": "execute_result"
    }
   ],
   "source": [
    "df_auditoria_aplicacao.head()"
   ]
  },
  {
   "cell_type": "code",
   "execution_count": 19,
   "metadata": {},
   "outputs": [
    {
     "data": {
      "text/plain": [
       "198.51.101.202    56\n",
       "198.51.101.220    54\n",
       "192.0.3.40        54\n",
       "192.0.3.87        53\n",
       "192.31.197.103    52\n",
       "                  ..\n",
       "192.13.134.241     1\n",
       "192.20.131.77      1\n",
       "192.88.87.125      1\n",
       "203.5.235.32       1\n",
       "198.20.45.101      1\n",
       "Name: REMOTE ADDRESS, Length: 676643, dtype: int64"
      ]
     },
     "execution_count": 19,
     "metadata": {},
     "output_type": "execute_result"
    }
   ],
   "source": [
    "df_auditoria_aplicacao['REMOTE ADDRESS'].value_counts()"
   ]
  },
  {
   "cell_type": "code",
   "execution_count": null,
   "metadata": {},
   "outputs": [],
   "source": []
  }
 ],
 "metadata": {
  "kernelspec": {
   "display_name": "Python 3",
   "language": "python",
   "name": "python3"
  },
  "language_info": {
   "codemirror_mode": {
    "name": "ipython",
    "version": 3
   },
   "file_extension": ".py",
   "mimetype": "text/x-python",
   "name": "python",
   "nbconvert_exporter": "python",
   "pygments_lexer": "ipython3",
   "version": "3.6.8"
  }
 },
 "nbformat": 4,
 "nbformat_minor": 2
}
